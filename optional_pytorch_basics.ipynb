{
 "cells": [
  {
   "cell_type": "markdown",
   "metadata": {},
   "source": [
    "# PyTorch Tensors"
   ]
  },
  {
   "cell_type": "markdown",
   "metadata": {},
   "source": [
    "- This tutorial briefly describes some basic operations on Tensors in PyTorch. \n",
    "- This [documentation](http://pytorch.org/docs/master/torch.html) from pytorch contains information about all the possible operations on Tensors."
   ]
  },
  {
   "cell_type": "code",
   "execution_count": 1,
   "metadata": {},
   "outputs": [],
   "source": [
    "import torch\n",
    "import torch.nn as nn\n",
    "import numpy as np"
   ]
  },
  {
   "cell_type": "code",
   "execution_count": 2,
   "metadata": {},
   "outputs": [],
   "source": [
    "torch.manual_seed(0)\n",
    "np.random.seed(0)"
   ]
  },
  {
   "cell_type": "markdown",
   "metadata": {},
   "source": [
    "## Getting started with Tensors"
   ]
  },
  {
   "cell_type": "markdown",
   "metadata": {},
   "source": [
    "### Creating a Tensor"
   ]
  },
  {
   "cell_type": "code",
   "execution_count": 3,
   "metadata": {},
   "outputs": [
    {
     "name": "stdout",
     "output_type": "stream",
     "text": [
      "tensor([[1., 2., 3.],\n",
      "        [4., 5., 6.]])\n",
      "shape:  torch.Size([2, 3])\n"
     ]
    }
   ],
   "source": [
    "#Create Torch Tensor from a list\n",
    "x = torch.Tensor([[1,2,3],[4,5,6]])\n",
    "print (x) # prints the tensor\n",
    "print ('shape: ',x.shape) # returns the shape of the tensor. You can also use x.size()"
   ]
  },
  {
   "cell_type": "markdown",
   "metadata": {},
   "source": [
    "- you can use the `.numpy()` function to obtain the numpy array from tensor."
   ]
  },
  {
   "cell_type": "code",
   "execution_count": 4,
   "metadata": {},
   "outputs": [
    {
     "name": "stdout",
     "output_type": "stream",
     "text": [
      "numpy array: \n",
      "[[1. 2. 3.]\n",
      " [4. 5. 6.]]\n"
     ]
    }
   ],
   "source": [
    "print ('numpy array: ')\n",
    "print (x.numpy()) # obtains the numpy array from the pytorch Tensor"
   ]
  },
  {
   "cell_type": "markdown",
   "metadata": {},
   "source": [
    "- The default `torch.Tensor` is a float tensor as you can see above.\n",
    "- You can use `torch.LongTensor` for tensor of integer types."
   ]
  },
  {
   "cell_type": "code",
   "execution_count": 5,
   "metadata": {},
   "outputs": [
    {
     "name": "stdout",
     "output_type": "stream",
     "text": [
      "tensor([1, 4, 6])\n",
      "shape:  torch.Size([3])\n",
      "numpy array:  [1 4 6]\n"
     ]
    }
   ],
   "source": [
    "x = torch.LongTensor([1,4,6])\n",
    "print (x) # prints the tensor\n",
    "print ('shape: ', x.shape) # returns the shape of the tensor. You can also use x.size()\n",
    "print ('numpy array: ',x.numpy()) #obtains the numpy array"
   ]
  },
  {
   "cell_type": "markdown",
   "metadata": {},
   "source": [
    "- You can also create Tensors from numpy arrays"
   ]
  },
  {
   "cell_type": "code",
   "execution_count": 6,
   "metadata": {},
   "outputs": [
    {
     "name": "stdout",
     "output_type": "stream",
     "text": [
      "[1. 1. 1. 1. 1.]\n"
     ]
    }
   ],
   "source": [
    "one_arr = np.ones(5) # a numpy array\n",
    "print (one_arr)"
   ]
  },
  {
   "cell_type": "code",
   "execution_count": 7,
   "metadata": {},
   "outputs": [
    {
     "name": "stdout",
     "output_type": "stream",
     "text": [
      "tensor([1., 1., 1., 1., 1.], dtype=torch.float64)\n",
      "torch.Size([5])\n"
     ]
    }
   ],
   "source": [
    "x = torch.from_numpy(one_arr)\n",
    "print (x) \n",
    "print (x.shape) #obtains the shape of the tensor"
   ]
  },
  {
   "cell_type": "code",
   "execution_count": 8,
   "metadata": {},
   "outputs": [
    {
     "name": "stdout",
     "output_type": "stream",
     "text": [
      "[1. 1. 1. 1. 1.]\n"
     ]
    }
   ],
   "source": [
    "print (x.numpy()) #obtains the numpy array from the Tensor"
   ]
  },
  {
   "cell_type": "markdown",
   "metadata": {},
   "source": [
    "### Indexing into a Tensor"
   ]
  },
  {
   "cell_type": "code",
   "execution_count": 9,
   "metadata": {},
   "outputs": [
    {
     "name": "stdout",
     "output_type": "stream",
     "text": [
      "tensor([[[0.5488, 0.7152, 0.6028, 0.5449, 0.4237],\n",
      "         [0.6459, 0.4376, 0.8918, 0.9637, 0.3834],\n",
      "         [0.7917, 0.5289, 0.5680, 0.9256, 0.0710],\n",
      "         [0.0871, 0.0202, 0.8326, 0.7782, 0.8700]],\n",
      "\n",
      "        [[0.9786, 0.7992, 0.4615, 0.7805, 0.1183],\n",
      "         [0.6399, 0.1434, 0.9447, 0.5218, 0.4147],\n",
      "         [0.2646, 0.7742, 0.4562, 0.5684, 0.0188],\n",
      "         [0.6176, 0.6121, 0.6169, 0.9437, 0.6818]],\n",
      "\n",
      "        [[0.3595, 0.4370, 0.6976, 0.0602, 0.6668],\n",
      "         [0.6706, 0.2104, 0.1289, 0.3154, 0.3637],\n",
      "         [0.5702, 0.4386, 0.9884, 0.1020, 0.2089],\n",
      "         [0.1613, 0.6531, 0.2533, 0.4663, 0.2444]]], dtype=torch.float64)\n",
      "shape:  torch.Size([3, 4, 5])\n"
     ]
    }
   ],
   "source": [
    "a = np.random.rand(3,4,5)\n",
    "x = torch.from_numpy(a)\n",
    "print (x)\n",
    "print ('shape: ',x.shape)"
   ]
  },
  {
   "cell_type": "code",
   "execution_count": 10,
   "metadata": {},
   "outputs": [
    {
     "name": "stdout",
     "output_type": "stream",
     "text": [
      "tensor([[0.5488, 0.7152, 0.6028, 0.5449, 0.4237],\n",
      "        [0.6459, 0.4376, 0.8918, 0.9637, 0.3834],\n",
      "        [0.7917, 0.5289, 0.5680, 0.9256, 0.0710],\n",
      "        [0.0871, 0.0202, 0.8326, 0.7782, 0.8700]], dtype=torch.float64)\n",
      "torch.Size([4, 5])\n"
     ]
    }
   ],
   "source": [
    "# you can index into them like arrays\n",
    "print (x[0]) #gives you a matrix Tensor\n",
    "print (x[0].shape)"
   ]
  },
  {
   "cell_type": "code",
   "execution_count": 11,
   "metadata": {},
   "outputs": [
    {
     "name": "stdout",
     "output_type": "stream",
     "text": [
      "tensor([0.7917, 0.5289, 0.5680, 0.9256, 0.0710], dtype=torch.float64)\n",
      "torch.Size([5])\n"
     ]
    }
   ],
   "source": [
    "# you can index into them like arrays\n",
    "print (x[0][2]) # gives you a vector Tensor\n",
    "print (x[0][2].shape)"
   ]
  },
  {
   "cell_type": "code",
   "execution_count": 12,
   "metadata": {},
   "outputs": [
    {
     "name": "stdout",
     "output_type": "stream",
     "text": [
      "tensor(0.9256, dtype=torch.float64)\n"
     ]
    }
   ],
   "source": [
    "print (x[0][2][3]) #this gives you a scalar"
   ]
  },
  {
   "cell_type": "markdown",
   "metadata": {},
   "source": [
    "### Reshaping a Tensor"
   ]
  },
  {
   "cell_type": "markdown",
   "metadata": {},
   "source": [
    "- To reshape a tensor to a different size, you can use the `.view()` function. \n",
    "- The `.view()` function returns a tensor with the same data as the self tensor but of a different size"
   ]
  },
  {
   "cell_type": "code",
   "execution_count": 13,
   "metadata": {},
   "outputs": [
    {
     "name": "stdout",
     "output_type": "stream",
     "text": [
      "tensor([[0.1590, 0.1104, 0.6563, 0.1382, 0.1966, 0.3687],\n",
      "        [0.8210, 0.0971, 0.8379, 0.0961, 0.9765, 0.4687]], dtype=torch.float64)\n",
      "shape:  torch.Size([2, 6])\n"
     ]
    }
   ],
   "source": [
    "a = np.random.rand(2,6)\n",
    "x = torch.from_numpy(a)\n",
    "print (x)\n",
    "print ('shape: ',x.shape)"
   ]
  },
  {
   "cell_type": "code",
   "execution_count": 14,
   "metadata": {},
   "outputs": [
    {
     "name": "stdout",
     "output_type": "stream",
     "text": [
      "tensor([[0.1590, 0.1104, 0.6563, 0.1382],\n",
      "        [0.1966, 0.3687, 0.8210, 0.0971],\n",
      "        [0.8379, 0.0961, 0.9765, 0.4687]], dtype=torch.float64)\n",
      "torch.Size([3, 4])\n"
     ]
    }
   ],
   "source": [
    "y = x.view(3,4) #reshapes it into a tensor of size 3 x 4\n",
    "print (y)\n",
    "print (y.shape)"
   ]
  },
  {
   "cell_type": "code",
   "execution_count": 15,
   "metadata": {},
   "outputs": [
    {
     "name": "stdout",
     "output_type": "stream",
     "text": [
      "tensor([[[0.1590, 0.1104],\n",
      "         [0.6563, 0.1382],\n",
      "         [0.1966, 0.3687]],\n",
      "\n",
      "        [[0.8210, 0.0971],\n",
      "         [0.8379, 0.0961],\n",
      "         [0.9765, 0.4687]]], dtype=torch.float64)\n",
      "torch.Size([2, 3, 2])\n"
     ]
    }
   ],
   "source": [
    "y = x.view(2,3,2) #reshapes the tensor into 2 x 3 x 2\n",
    "print (y)\n",
    "print (y.shape)"
   ]
  },
  {
   "cell_type": "markdown",
   "metadata": {},
   "source": [
    "- if one of the dimensions is `-1`, as shown below, then its size can be inferred. So, you cannot have multiple -1's in view."
   ]
  },
  {
   "cell_type": "code",
   "execution_count": 16,
   "metadata": {},
   "outputs": [
    {
     "name": "stdout",
     "output_type": "stream",
     "text": [
      "tensor([[0.1590, 0.1104, 0.6563],\n",
      "        [0.1382, 0.1966, 0.3687],\n",
      "        [0.8210, 0.0971, 0.8379],\n",
      "        [0.0961, 0.9765, 0.4687]], dtype=torch.float64)\n",
      "torch.Size([4, 3])\n"
     ]
    }
   ],
   "source": [
    "y = x.view(4,3) #reshapes the tensor into 4x3\n",
    "print (y)\n",
    "print (y.shape)"
   ]
  },
  {
   "cell_type": "code",
   "execution_count": 17,
   "metadata": {},
   "outputs": [
    {
     "name": "stdout",
     "output_type": "stream",
     "text": [
      "tensor([[0.1590, 0.1104, 0.6563],\n",
      "        [0.1382, 0.1966, 0.3687],\n",
      "        [0.8210, 0.0971, 0.8379],\n",
      "        [0.0961, 0.9765, 0.4687]], dtype=torch.float64)\n",
      "torch.Size([4, 3])\n"
     ]
    }
   ],
   "source": [
    "y = x.view(4,-1) #same as above, but the second dimension can be inferred.\n",
    "print (y)\n",
    "print (y.shape)"
   ]
  },
  {
   "cell_type": "markdown",
   "metadata": {},
   "source": [
    "### Operations on Tensors"
   ]
  },
  {
   "cell_type": "markdown",
   "metadata": {},
   "source": [
    "- You can do some basic operations on tensors like arrays"
   ]
  },
  {
   "cell_type": "code",
   "execution_count": 18,
   "metadata": {},
   "outputs": [
    {
     "name": "stdout",
     "output_type": "stream",
     "text": [
      "tensor([[0.9768, 0.6048, 0.7393, 0.0392, 0.2828]], dtype=torch.float64)\n",
      "torch.Size([1, 5])\n"
     ]
    }
   ],
   "source": [
    "a = np.random.rand(1,5)\n",
    "x = torch.from_numpy(a)\n",
    "print (x)\n",
    "print (x.shape)"
   ]
  },
  {
   "cell_type": "code",
   "execution_count": 19,
   "metadata": {},
   "outputs": [
    {
     "name": "stdout",
     "output_type": "stream",
     "text": [
      "tensor([[1., 1., 1., 1., 1.]], dtype=torch.float64)\n",
      "torch.Size([1, 5])\n"
     ]
    }
   ],
   "source": [
    "b = np.ones((1,5))\n",
    "y = torch.from_numpy(b)\n",
    "print (y)\n",
    "print (y.shape)"
   ]
  },
  {
   "cell_type": "code",
   "execution_count": 20,
   "metadata": {},
   "outputs": [
    {
     "name": "stdout",
     "output_type": "stream",
     "text": [
      "tensor([[1.9768, 1.6048, 1.7393, 1.0392, 1.2828]], dtype=torch.float64)\n"
     ]
    }
   ],
   "source": [
    "print (x + y) #element wise addition"
   ]
  },
  {
   "cell_type": "code",
   "execution_count": 21,
   "metadata": {},
   "outputs": [
    {
     "name": "stdout",
     "output_type": "stream",
     "text": [
      "tensor([[-0.0232, -0.3952, -0.2607, -0.9608, -0.7172]], dtype=torch.float64)\n"
     ]
    }
   ],
   "source": [
    "print (x - y) #element wise subtraction"
   ]
  },
  {
   "cell_type": "code",
   "execution_count": 22,
   "metadata": {},
   "outputs": [
    {
     "name": "stdout",
     "output_type": "stream",
     "text": [
      "tensor([[0.9768, 0.6048, 0.7393, 0.0392, 0.2828]], dtype=torch.float64)\n"
     ]
    }
   ],
   "source": [
    "print (x * y)  #element wise multiplication"
   ]
  },
  {
   "cell_type": "markdown",
   "metadata": {},
   "source": [
    "- Another useful operation on tensors is concatenation.\n",
    "- You can use the `torch.cat()` function, it takes in a list/sequence of tensors and concatenates them"
   ]
  },
  {
   "cell_type": "code",
   "execution_count": 23,
   "metadata": {},
   "outputs": [
    {
     "data": {
      "text/plain": [
       "tensor([[0.9768, 0.6048, 0.7393, 0.0392, 0.2828],\n",
       "        [1.0000, 1.0000, 1.0000, 1.0000, 1.0000]], dtype=torch.float64)"
      ]
     },
     "execution_count": 23,
     "metadata": {},
     "output_type": "execute_result"
    }
   ],
   "source": [
    "torch.cat([x,y]) # concatenates them along the row (dim=0) by default."
   ]
  },
  {
   "cell_type": "code",
   "execution_count": 24,
   "metadata": {},
   "outputs": [
    {
     "data": {
      "text/plain": [
       "tensor([[0.9768, 0.6048, 0.7393, 0.0392, 0.2828, 1.0000, 1.0000, 1.0000, 1.0000,\n",
       "         1.0000]], dtype=torch.float64)"
      ]
     },
     "execution_count": 24,
     "metadata": {},
     "output_type": "execute_result"
    }
   ],
   "source": [
    "torch.cat([x,y], dim=1) # concatenates them along the column when dim=1 is mentioned."
   ]
  },
  {
   "cell_type": "markdown",
   "metadata": {},
   "source": [
    "- If you want to expand a Tensor along the singleton dimension, you can use the `.expand()` function."
   ]
  },
  {
   "cell_type": "code",
   "execution_count": 25,
   "metadata": {},
   "outputs": [
    {
     "name": "stdout",
     "output_type": "stream",
     "text": [
      "tensor([[1.],\n",
      "        [2.],\n",
      "        [3.]])\n",
      "torch.Size([3, 1])\n"
     ]
    }
   ],
   "source": [
    "x = torch.Tensor([[1],[2],[3]])\n",
    "print (x)\n",
    "print (x.shape)"
   ]
  },
  {
   "cell_type": "code",
   "execution_count": 26,
   "metadata": {},
   "outputs": [
    {
     "data": {
      "text/plain": [
       "tensor([[1., 1., 1., 1.],\n",
       "        [2., 2., 2., 2.],\n",
       "        [3., 3., 3., 3.]])"
      ]
     },
     "execution_count": 26,
     "metadata": {},
     "output_type": "execute_result"
    }
   ],
   "source": [
    "x.expand(3,4) #expands it along the second dimension from (3 x 1) to be (3 x 4)"
   ]
  },
  {
   "cell_type": "code",
   "execution_count": 27,
   "metadata": {},
   "outputs": [
    {
     "data": {
      "text/plain": [
       "tensor([[5., 6.],\n",
       "        [5., 6.],\n",
       "        [5., 6.],\n",
       "        [5., 6.],\n",
       "        [5., 6.]])"
      ]
     },
     "execution_count": 27,
     "metadata": {},
     "output_type": "execute_result"
    }
   ],
   "source": [
    "x = torch.Tensor([5,6]).view(-1,2) #reshaping it to 1 x 2\n",
    "x.expand(5,2) #expands it along the first dimension from (1 x 2) to (5 x 2)"
   ]
  },
  {
   "cell_type": "markdown",
   "metadata": {},
   "source": [
    "- These are the basic operations on the Tensors that might be useful. You can check the [documentation here](http://pytorch.org/docs/master/torch.html) for all list of operations."
   ]
  },
  {
   "cell_type": "code",
   "execution_count": null,
   "metadata": {},
   "outputs": [],
   "source": []
  }
 ],
 "metadata": {
  "kernelspec": {
   "display_name": "Python 3 (ipykernel)",
   "language": "python",
   "name": "python3"
  },
  "language_info": {
   "codemirror_mode": {
    "name": "ipython",
    "version": 3
   },
   "file_extension": ".py",
   "mimetype": "text/x-python",
   "name": "python",
   "nbconvert_exporter": "python",
   "pygments_lexer": "ipython3",
   "version": "3.8.13"
  }
 },
 "nbformat": 4,
 "nbformat_minor": 4
}
